{
 "cells": [
  {
   "cell_type": "code",
   "execution_count": null,
   "metadata": {},
   "outputs": [],
   "source": [
    "import random \n",
    "while True:     \n",
    "     user = int(input(\"Choose One Option: \\n1. roll the dice \\n2. exit\\n\"))     \n",
    "     if user==1:         \n",
    "        number = random.randint(1,6)         \n",
    "        print(number)     \n",
    "     else:         \n",
    "        break"
   ]
  },
  {
   "cell_type": "code",
   "execution_count": null,
   "metadata": {},
   "outputs": [],
   "source": [
    "# Just Run the code to get the dice role everytime a mini porject type"
   ]
  }
 ],
 "metadata": {
  "kernelspec": {
   "display_name": "Python 3",
   "language": "python",
   "name": "python3"
  },
  "language_info": {
   "name": ""
  }
 },
 "nbformat": 4,
 "nbformat_minor": 4
}
